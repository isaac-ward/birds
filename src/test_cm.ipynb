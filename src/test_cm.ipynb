{
 "cells": [
  {
   "cell_type": "code",
   "execution_count": 1,
   "metadata": {},
   "outputs": [],
   "source": [
    "import os \n",
    "import numpy as np\n",
    "\n",
    "from genetic.chromosome import Chromosome\n",
    "from genetic.virtual_creature import VirtualCreature\n",
    "from genetic.fitness import evaluate_fitness, select_fittest_individuals\n"
   ]
  },
  {
   "cell_type": "code",
   "execution_count": 2,
   "metadata": {},
   "outputs": [],
   "source": [
    "# Create two random creatures\n",
    "creature1 = VirtualCreature(Chromosome.random_init())\n",
    "creature2 = VirtualCreature(Chromosome.random_init())\n"
   ]
  },
  {
   "cell_type": "code",
   "execution_count": 3,
   "metadata": {},
   "outputs": [
    {
     "name": "stdout",
     "output_type": "stream",
     "text": [
      "Original Creature 1:\n",
      "----------------\n",
      "state:\n",
      "p  = [0. 0. 0.]\n",
      "v  = [10  0  0]\n",
      "a  = [0. 0. 0.]\n",
      "r  = [0. 0. 0.]\n",
      "ω  = [0. 0. 0.]\n",
      "wa = 0\n",
      "\n",
      "chromosome:\n",
      "wingspan = 8.978953935513122\n",
      "norm_wrist_position = 0.8566432897512231\n",
      "wing_root_chord = 0.8905642984829846\n",
      "taper_armwing = 0.21272136992458768\n",
      "taper_handwing = 0.32265949850533027\n",
      "norm_COG_position = 0.5393328687142476\n",
      "airfoil_armwing = 0.377045955949881\n",
      "airfoil_handwing = 0.820495812158001\n",
      "----------------\n",
      "\n",
      "Original Creature 2:\n",
      "----------------\n",
      "state:\n",
      "p  = [0. 0. 0.]\n",
      "v  = [10  0  0]\n",
      "a  = [0. 0. 0.]\n",
      "r  = [0. 0. 0.]\n",
      "ω  = [0. 0. 0.]\n",
      "wa = 0\n",
      "\n",
      "chromosome:\n",
      "wingspan = 2.6548829948325903\n",
      "norm_wrist_position = 0.07092148868338577\n",
      "wing_root_chord = 0.7685955577704325\n",
      "taper_armwing = 0.09311056610002177\n",
      "taper_handwing = 0.4066623947809729\n",
      "norm_COG_position = 0.25001666114091115\n",
      "airfoil_armwing = 0.321302860460569\n",
      "airfoil_handwing = 0.4381384599658372\n",
      "----------------\n",
      "\n"
     ]
    }
   ],
   "source": [
    "\n",
    "# Print the original creatures' attributes\n",
    "print(\"Original Creature 1:\")\n",
    "print(creature1)\n",
    "\n",
    "print(\"Original Creature 2:\")\n",
    "print(creature2)"
   ]
  },
  {
   "cell_type": "code",
   "execution_count": 4,
   "metadata": {},
   "outputs": [
    {
     "name": "stdout",
     "output_type": "stream",
     "text": [
      "\n",
      "Child from Crossover:\n",
      "----------------\n",
      "state:\n",
      "p  = [0. 0. 0.]\n",
      "v  = [10  0  0]\n",
      "a  = [0. 0. 0.]\n",
      "r  = [0. 0. 0.]\n",
      "ω  = [0. 0. 0.]\n",
      "wa = 0\n",
      "\n",
      "chromosome:\n",
      "wingspan = 8.978953935513122\n",
      "norm_wrist_position = 0.8566432897512231\n",
      "wing_root_chord = 0.7685955577704325\n",
      "taper_armwing = 0.09311056610002177\n",
      "taper_handwing = 0.4066623947809729\n",
      "norm_COG_position = 0.25001666114091115\n",
      "airfoil_armwing = 0.321302860460569\n",
      "airfoil_handwing = 0.4381384599658372\n",
      "----------------\n",
      "\n"
     ]
    }
   ],
   "source": [
    "# Perform crossover to create a child creature\n",
    "child = creature1.crossover(creature2)\n",
    "print(\"\\nChild from Crossover:\")\n",
    "print(child)"
   ]
  },
  {
   "cell_type": "code",
   "execution_count": 5,
   "metadata": {},
   "outputs": [
    {
     "name": "stdout",
     "output_type": "stream",
     "text": [
      "\n",
      "Mutated Child:\n",
      "----------------\n",
      "state:\n",
      "p  = [0. 0. 0.]\n",
      "v  = [10  0  0]\n",
      "a  = [0. 0. 0.]\n",
      "r  = [0. 0. 0.]\n",
      "ω  = [0. 0. 0.]\n",
      "wa = 0\n",
      "\n",
      "chromosome:\n",
      "wingspan = 9.059195433455443\n",
      "norm_wrist_position = 0.8265865755610503\n",
      "wing_root_chord = 0.5775875172238956\n",
      "taper_armwing = 0.12654020372867225\n",
      "taper_handwing = 0.4390756766682934\n",
      "norm_COG_position = 0.39017740320170113\n",
      "airfoil_armwing = 0.35201434053859304\n",
      "airfoil_handwing = 0.3465401119225224\n",
      "----------------\n",
      "\n"
     ]
    }
   ],
   "source": [
    "mutated_child = child.mutate(sigma=0.1)\n",
    "print(\"\\nMutated Child:\")\n",
    "print(mutated_child)"
   ]
  }
 ],
 "metadata": {
  "kernelspec": {
   "display_name": "base",
   "language": "python",
   "name": "python3"
  },
  "language_info": {
   "codemirror_mode": {
    "name": "ipython",
    "version": 3
   },
   "file_extension": ".py",
   "mimetype": "text/x-python",
   "name": "python",
   "nbconvert_exporter": "python",
   "pygments_lexer": "ipython3",
   "version": "3.11.7"
  }
 },
 "nbformat": 4,
 "nbformat_minor": 2
}
