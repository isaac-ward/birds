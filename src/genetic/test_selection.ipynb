{
 "cells": [
  {
   "cell_type": "code",
   "execution_count": 1,
   "metadata": {},
   "outputs": [
    {
     "name": "stdout",
     "output_type": "stream",
     "text": [
      "Testing Truncation Selection:\n",
      "Creature: Creature_7\n",
      "Creature: Creature_4\n",
      "Creature: Creature_1\n",
      "Creature: Creature_1\n",
      "\n",
      "Testing Tournament Selection:\n",
      "Creature: Creature_3\n",
      "Creature: Creature_9\n",
      "Creature: Creature_9\n",
      "Creature: Creature_9\n",
      "\n",
      "Testing Roulette Selection:\n",
      "Creature: Creature_0\n",
      "Creature: Creature_3\n",
      "Creature: Creature_7\n",
      "Creature: Creature_6\n"
     ]
    }
   ],
   "source": [
    "import numpy as np\n",
    "from scipy.stats import rv_discrete\n",
    "\n",
    "# Mock VirtualCreature class\n",
    "class VirtualCreature:\n",
    "    def __init__(self, name):\n",
    "        self.name = name\n",
    "\n",
    "    def __str__(self):\n",
    "        return f\"Creature: {self.name}\"\n",
    "\n",
    "# Function to select fittest individuals\n",
    "def select_fittest_individuals(population, fitness_scores, num_parents, method):\n",
    "    parents = []\n",
    "    if method == \"truncation\":\n",
    "        sorted_indices = np.argsort(fitness_scores)[::-1]\n",
    "        top_parents = sorted_indices[:num_parents]\n",
    "        parents = [population[np.random.choice(top_parents)] for _ in range(num_parents)]\n",
    "    elif method == \"tournament\":\n",
    "        parents = []\n",
    "        for _ in range(num_parents):\n",
    "            subset_indices = np.random.choice(len(fitness_scores), num_parents, replace=False)\n",
    "            best_index = subset_indices[np.argmin(fitness_scores[subset_indices])]\n",
    "            parents.append(population[best_index])\n",
    "    elif method == \"roulette\":\n",
    "        adjusted_fitness = np.max(fitness_scores) - fitness_scores\n",
    "        probabilities = adjusted_fitness / np.sum(adjusted_fitness)\n",
    "        distribution = rv_discrete(values=(np.arange(len(fitness_scores)), probabilities))\n",
    "        parent_indices = distribution.rvs(size=num_parents)\n",
    "        parents = [population[i] for i in parent_indices]\n",
    "    else:\n",
    "        raise ValueError(\"Unsupported Selection Method\")\n",
    "    return parents\n",
    "\n",
    "# Create a population of VirtualCreatures\n",
    "population = [VirtualCreature(f\"Creature_{i}\") for i in range(10)]\n",
    "\n",
    "# Define mock fitness scores for each creature\n",
    "fitness_scores = np.array([10, 20, 15, 5, 25, 30, 8, 18, 12, 7])\n",
    "\n",
    "# Number of parents to select\n",
    "num_parents = 4\n",
    "\n",
    "# Test truncation method\n",
    "print(\"Testing Truncation Selection:\")\n",
    "selected_parents = select_fittest_individuals(population, fitness_scores, num_parents, \"truncation\")\n",
    "for parent in selected_parents:\n",
    "    print(parent)\n",
    "\n",
    "# Test tournament method\n",
    "print(\"\\nTesting Tournament Selection:\")\n",
    "selected_parents = select_fittest_individuals(population, fitness_scores, num_parents, \"tournament\")\n",
    "for parent in selected_parents:\n",
    "    print(parent)\n",
    "\n",
    "# Test roulette method\n",
    "print(\"\\nTesting Roulette Selection:\")\n",
    "selected_parents = select_fittest_individuals(population, fitness_scores, num_parents, \"roulette\")\n",
    "for parent in selected_parents:\n",
    "    print(parent)\n"
   ]
  }
 ],
 "metadata": {
  "kernelspec": {
   "display_name": "base",
   "language": "python",
   "name": "python3"
  },
  "language_info": {
   "codemirror_mode": {
    "name": "ipython",
    "version": 3
   },
   "file_extension": ".py",
   "mimetype": "text/x-python",
   "name": "python",
   "nbconvert_exporter": "python",
   "pygments_lexer": "ipython3",
   "version": "3.11.7"
  }
 },
 "nbformat": 4,
 "nbformat_minor": 2
}
